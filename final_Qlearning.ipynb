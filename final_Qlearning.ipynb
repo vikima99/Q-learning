{
 "cells": [
  {
   "cell_type": "code",
   "execution_count": 1,
   "metadata": {},
   "outputs": [],
   "source": [
    "import numpy as np"
   ]
  },
  {
   "cell_type": "markdown",
   "metadata": {},
   "source": [
    "# Reward Table for 9 State-Action pair"
   ]
  },
  {
   "cell_type": "code",
   "execution_count": 2,
   "metadata": {},
   "outputs": [],
   "source": [
    "reward_table=([[0,1,0,0,0,0,0,0,0],[1,0,1,0,0,0,0,0,0],[0,1,0,0,0,1,0,0,0],[0,0,0,0,0,0,1,0,0],[0,1,0,0,0,0,0,1,0],[0,0,1,0,0,0,0,0,0],[0,0,0,1,0,0,0,1,0],[0,0,0,0,1,0,1,0,1],[0,0,0,0,0,0,0,1,0]])"
   ]
  },
  {
   "cell_type": "code",
   "execution_count": 3,
   "metadata": {},
   "outputs": [],
   "source": [
    "reward_table=np.array(reward_table)"
   ]
  },
  {
   "cell_type": "code",
   "execution_count": 4,
   "metadata": {},
   "outputs": [
    {
     "data": {
      "text/plain": [
       "array([[0, 1, 0, 0, 0, 0, 0, 0, 0],\n",
       "       [1, 0, 1, 0, 0, 0, 0, 0, 0],\n",
       "       [0, 1, 0, 0, 0, 1, 0, 0, 0],\n",
       "       [0, 0, 0, 0, 0, 0, 1, 0, 0],\n",
       "       [0, 1, 0, 0, 0, 0, 0, 1, 0],\n",
       "       [0, 0, 1, 0, 0, 0, 0, 0, 0],\n",
       "       [0, 0, 0, 1, 0, 0, 0, 1, 0],\n",
       "       [0, 0, 0, 0, 1, 0, 1, 0, 1],\n",
       "       [0, 0, 0, 0, 0, 0, 0, 1, 0]])"
      ]
     },
     "execution_count": 4,
     "metadata": {},
     "output_type": "execute_result"
    }
   ],
   "source": [
    "reward_table"
   ]
  },
  {
   "cell_type": "code",
   "execution_count": 5,
   "metadata": {},
   "outputs": [],
   "source": [
    "# reward_table\n",
    "# for i in range(9):\n",
    "#     for j in range(9):\n",
    "#         if reward_table[i][j]!=1:\n",
    "#             reward_table[i][j]=-1\n",
    "#         elif reward_table[i][j]==1:\n",
    "#             reward_table[i][j]=(i+j)*100\n",
    "# print(reward_table)            \n",
    "            "
   ]
  },
  {
   "cell_type": "markdown",
   "metadata": {},
   "source": [
    "# Initialization of Q-matrix"
   ]
  },
  {
   "cell_type": "code",
   "execution_count": 6,
   "metadata": {},
   "outputs": [],
   "source": [
    "Q= np.matrix(np.zeros([9,9]))"
   ]
  },
  {
   "cell_type": "code",
   "execution_count": 7,
   "metadata": {},
   "outputs": [
    {
     "data": {
      "text/plain": [
       "matrix([[0., 0., 0., 0., 0., 0., 0., 0., 0.],\n",
       "        [0., 0., 0., 0., 0., 0., 0., 0., 0.],\n",
       "        [0., 0., 0., 0., 0., 0., 0., 0., 0.],\n",
       "        [0., 0., 0., 0., 0., 0., 0., 0., 0.],\n",
       "        [0., 0., 0., 0., 0., 0., 0., 0., 0.],\n",
       "        [0., 0., 0., 0., 0., 0., 0., 0., 0.],\n",
       "        [0., 0., 0., 0., 0., 0., 0., 0., 0.],\n",
       "        [0., 0., 0., 0., 0., 0., 0., 0., 0.],\n",
       "        [0., 0., 0., 0., 0., 0., 0., 0., 0.]])"
      ]
     },
     "execution_count": 7,
     "metadata": {},
     "output_type": "execute_result"
    }
   ],
   "source": [
    "Q"
   ]
  },
  {
   "cell_type": "code",
   "execution_count": 8,
   "metadata": {},
   "outputs": [],
   "source": [
    "gamma=0.8"
   ]
  },
  {
   "cell_type": "code",
   "execution_count": 9,
   "metadata": {},
   "outputs": [],
   "source": [
    "initial_state=1"
   ]
  },
  {
   "cell_type": "markdown",
   "metadata": {},
   "source": [
    "# List of all possible actions given any current state"
   ]
  },
  {
   "cell_type": "code",
   "execution_count": 10,
   "metadata": {},
   "outputs": [],
   "source": [
    "def playable_actions(state):\n",
    "    aval_action=[]\n",
    "    current_row_of_state=reward_table[state,]\n",
    "    x=np.where(current_row_of_state>0)\n",
    "    aval_action.append(x)\n",
    "    aval_action=np.array(aval_action)\n",
    "    value=aval_action[0][0]\n",
    "    return value"
   ]
  },
  {
   "cell_type": "code",
   "execution_count": 11,
   "metadata": {},
   "outputs": [
    {
     "data": {
      "text/plain": [
       "array([2], dtype=int64)"
      ]
     },
     "execution_count": 11,
     "metadata": {},
     "output_type": "execute_result"
    }
   ],
   "source": [
    "playable_actions(5)   # indexing start from 0 hence 0 to 8 are possible values for state and action"
   ]
  },
  {
   "cell_type": "markdown",
   "metadata": {},
   "source": [
    "# Randomly selecting one action from all possible action"
   ]
  },
  {
   "cell_type": "code",
   "execution_count": 12,
   "metadata": {},
   "outputs": [],
   "source": [
    "def choosing_next_action(available_actions_possible):\n",
    "    \n",
    "    next_action=int(np.random.choice(available_actions_possible,1))\n",
    "    return next_action\n",
    "    "
   ]
  },
  {
   "cell_type": "code",
   "execution_count": 13,
   "metadata": {},
   "outputs": [
    {
     "data": {
      "text/plain": [
       "0"
      ]
     },
     "execution_count": 13,
     "metadata": {},
     "output_type": "execute_result"
    }
   ],
   "source": [
    "choosing_next_action(playable_actions(1))"
   ]
  },
  {
   "cell_type": "code",
   "execution_count": 14,
   "metadata": {},
   "outputs": [],
   "source": [
    "gamma=0.8\n",
    "alpha=0.9\n",
    "end_state=5"
   ]
  },
  {
   "cell_type": "markdown",
   "metadata": {},
   "source": [
    "# Updating Q value "
   ]
  },
  {
   "cell_type": "code",
   "execution_count": 15,
   "metadata": {},
   "outputs": [],
   "source": [
    "def update(current_state,action,gamma,alpha,end_state):\n",
    "    rewards_new=np.copy(reward_table)\n",
    "    rewards_new[end_state,end_state]=100000\n",
    "    Temporal_difference=rewards_new[current_state,action]+gamma*Q[action,np.argmax(Q[action,])]-Q[current_state,action]\n",
    "    Q[current_state,action]+=alpha*Temporal_difference\n",
    "    \n",
    "    "
   ]
  },
  {
   "cell_type": "markdown",
   "metadata": {},
   "source": [
    "#  Training Q matrix"
   ]
  },
  {
   "cell_type": "code",
   "execution_count": 16,
   "metadata": {},
   "outputs": [],
   "source": [
    "for i in range(100000):\n",
    "    current_state=np.random.randint(0,int(Q.shape[0]))\n",
    "    available_actions=playable_actions(current_state)\n",
    "    action=choosing_next_action(available_actions)\n",
    "    update(current_state,action,gamma,alpha,end_state)"
   ]
  },
  {
   "cell_type": "markdown",
   "metadata": {},
   "source": [
    "# Updated Q matrix"
   ]
  },
  {
   "cell_type": "code",
   "execution_count": 17,
   "metadata": {},
   "outputs": [
    {
     "name": "stdout",
     "output_type": "stream",
     "text": [
      "............Trained Q-Matrix(Normalized)....................\n",
      "[[  0. 100.   0.   0.   0.   0.   0.   0.   0.]\n",
      " [100.   0. 100.   0.   0.   0.   0.   0.   0.]\n",
      " [  0. 100.   0.   0.   0. 100.   0.   0.   0.]\n",
      " [  0.   0.   0.   0.   0.   0. 100.   0.   0.]\n",
      " [  0. 100.   0.   0.   0.   0.   0. 100.   0.]\n",
      " [  0.   0. 100.   0.   0.   0.   0.   0.   0.]\n",
      " [  0.   0.   0. 100.   0.   0.   0. 100.   0.]\n",
      " [  0.   0.   0.   0. 100.   0. 100.   0. 100.]\n",
      " [  0.   0.   0.   0.   0.   0.   0. 100.   0.]]\n"
     ]
    }
   ],
   "source": [
    "print(\"............Trained Q-Matrix(Normalized)....................\")\n",
    "print(Q/np.max(Q)*100)"
   ]
  },
  {
   "cell_type": "code",
   "execution_count": 18,
   "metadata": {},
   "outputs": [],
   "source": [
    "# Testing \n",
    "# let say our goal state is 5\n"
   ]
  },
  {
   "cell_type": "markdown",
   "metadata": {},
   "source": [
    "#    Testing for given current and end state"
   ]
  },
  {
   "cell_type": "code",
   "execution_count": null,
   "metadata": {},
   "outputs": [],
   "source": [
    "current_state=2\n",
    "end_state=8\n",
    "steps=[current_state]\n",
    "while current_state!=end_state:\n",
    "    next_step_index=np.where(Q[current_state,]==np.max(Q[current_state,]))[1]\n",
    "    if next_step_index.shape[0]>1:\n",
    "        next_step_index=int(np.random.choice(next_step_index,size=1))\n",
    "    else:\n",
    "        next_step_index=int(next_step_index)\n",
    "    steps.append(next_step_index) \n",
    "    current_state=next_step_index\n"
   ]
  },
  {
   "cell_type": "markdown",
   "metadata": {},
   "source": [
    "# Desired path"
   ]
  },
  {
   "cell_type": "code",
   "execution_count": null,
   "metadata": {},
   "outputs": [],
   "source": [
    "print(steps)"
   ]
  },
  {
   "cell_type": "code",
   "execution_count": null,
   "metadata": {},
   "outputs": [],
   "source": []
  }
 ],
 "metadata": {
  "kernelspec": {
   "display_name": "Python 3",
   "language": "python",
   "name": "python3"
  },
  "language_info": {
   "codemirror_mode": {
    "name": "ipython",
    "version": 3
   },
   "file_extension": ".py",
   "mimetype": "text/x-python",
   "name": "python",
   "nbconvert_exporter": "python",
   "pygments_lexer": "ipython3",
   "version": "3.8.5"
  }
 },
 "nbformat": 4,
 "nbformat_minor": 4
}
